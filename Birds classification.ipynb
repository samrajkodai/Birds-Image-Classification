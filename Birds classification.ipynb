{
 "cells": [
  {
   "cell_type": "code",
   "execution_count": 125,
   "id": "94ec4eb7",
   "metadata": {},
   "outputs": [],
   "source": [
    "from keras.layers import Input, Lambda, Dense, Flatten\n",
    "from keras.models import Model\n",
    "from keras.applications.vgg16 import VGG16\n",
    "from keras.applications.vgg16 import preprocess_input\n",
    "from keras.preprocessing import image\n",
    "from keras.preprocessing.image import ImageDataGenerator\n",
    "from keras.models import Sequential\n",
    "import numpy as np\n",
    "from glob import glob\n",
    "import matplotlib.pyplot as plt"
   ]
  },
  {
   "cell_type": "code",
   "execution_count": 126,
   "id": "c303edb0",
   "metadata": {},
   "outputs": [],
   "source": [
    "IMAGE_SIZE=[224,224]"
   ]
  },
  {
   "cell_type": "code",
   "execution_count": 127,
   "id": "2434864f",
   "metadata": {},
   "outputs": [],
   "source": [
    "train_path='./train'\n",
    "test_path='./test'"
   ]
  },
  {
   "cell_type": "code",
   "execution_count": 128,
   "id": "78b04b2f",
   "metadata": {},
   "outputs": [],
   "source": [
    "# add preprocessing layer to the front of VGG\n",
    "vgg = VGG16(input_shape=IMAGE_SIZE + [3], weights='imagenet', include_top=False)"
   ]
  },
  {
   "cell_type": "code",
   "execution_count": 129,
   "id": "db2eb2e9",
   "metadata": {},
   "outputs": [],
   "source": [
    "for layer in vgg.layers:\n",
    "    layer.trainable=False"
   ]
  },
  {
   "cell_type": "code",
   "execution_count": 130,
   "id": "e7670eef",
   "metadata": {},
   "outputs": [],
   "source": [
    "folders=glob('./train/*')"
   ]
  },
  {
   "cell_type": "code",
   "execution_count": 131,
   "id": "2550d80c",
   "metadata": {},
   "outputs": [
    {
     "data": {
      "text/plain": [
       "['./train\\\\ABBOTTS BABBLER',\n",
       " './train\\\\ABBOTTS BOOBY',\n",
       " './train\\\\ABYSSINIAN GROUND HORNBILL',\n",
       " './train\\\\AFRICAN CROWNED CRANE',\n",
       " './train\\\\AFRICAN EMERALD CUCKOO',\n",
       " './train\\\\AFRICAN FIREFINCH',\n",
       " './train\\\\AFRICAN OYSTER CATCHER',\n",
       " './train\\\\ALBATROSS',\n",
       " './train\\\\ALBERTS TOWHEE',\n",
       " './train\\\\ALEXANDRINE PARAKEET',\n",
       " './train\\\\ALPINE CHOUGH',\n",
       " './train\\\\ALTAMIRA YELLOWTHROAT',\n",
       " './train\\\\AMERICAN AVOCET',\n",
       " './train\\\\AMERICAN BITTERN',\n",
       " './train\\\\AMERICAN COOT',\n",
       " './train\\\\AMERICAN GOLDFINCH',\n",
       " './train\\\\AMERICAN KESTREL',\n",
       " './train\\\\AMERICAN PIPIT',\n",
       " './train\\\\AMERICAN REDSTART',\n",
       " './train\\\\AMETHYST WOODSTAR']"
      ]
     },
     "execution_count": 131,
     "metadata": {},
     "output_type": "execute_result"
    }
   ],
   "source": [
    "folders"
   ]
  },
  {
   "cell_type": "code",
   "execution_count": 132,
   "id": "c7af64cf",
   "metadata": {},
   "outputs": [],
   "source": [
    "x=Flatten()(vgg.output)"
   ]
  },
  {
   "cell_type": "code",
   "execution_count": 133,
   "id": "bef40f81",
   "metadata": {},
   "outputs": [
    {
     "data": {
      "text/plain": [
       "<KerasTensor: shape=(None, 25088) dtype=float32 (created by layer 'flatten_2')>"
      ]
     },
     "execution_count": 133,
     "metadata": {},
     "output_type": "execute_result"
    }
   ],
   "source": [
    "x"
   ]
  },
  {
   "cell_type": "code",
   "execution_count": 134,
   "id": "4700e22d",
   "metadata": {},
   "outputs": [
    {
     "data": {
      "text/plain": [
       "<KerasTensor: shape=(None, 224, 224, 3) dtype=float32 (created by layer 'input_3')>"
      ]
     },
     "execution_count": 134,
     "metadata": {},
     "output_type": "execute_result"
    }
   ],
   "source": [
    "vgg.input"
   ]
  },
  {
   "cell_type": "code",
   "execution_count": 135,
   "id": "657fd0a6",
   "metadata": {},
   "outputs": [],
   "source": [
    "predictions=Dense(len(folders),activation=\"softmax\")(x)"
   ]
  },
  {
   "cell_type": "code",
   "execution_count": 136,
   "id": "5fd0568d",
   "metadata": {},
   "outputs": [],
   "source": [
    "model = Model(inputs=vgg.input, outputs=predictions)"
   ]
  },
  {
   "cell_type": "code",
   "execution_count": 137,
   "id": "cdab0043",
   "metadata": {},
   "outputs": [
    {
     "name": "stdout",
     "output_type": "stream",
     "text": [
      "Model: \"model_2\"\n",
      "_________________________________________________________________\n",
      " Layer (type)                Output Shape              Param #   \n",
      "=================================================================\n",
      " input_3 (InputLayer)        [(None, 224, 224, 3)]     0         \n",
      "                                                                 \n",
      " block1_conv1 (Conv2D)       (None, 224, 224, 64)      1792      \n",
      "                                                                 \n",
      " block1_conv2 (Conv2D)       (None, 224, 224, 64)      36928     \n",
      "                                                                 \n",
      " block1_pool (MaxPooling2D)  (None, 112, 112, 64)      0         \n",
      "                                                                 \n",
      " block2_conv1 (Conv2D)       (None, 112, 112, 128)     73856     \n",
      "                                                                 \n",
      " block2_conv2 (Conv2D)       (None, 112, 112, 128)     147584    \n",
      "                                                                 \n",
      " block2_pool (MaxPooling2D)  (None, 56, 56, 128)       0         \n",
      "                                                                 \n",
      " block3_conv1 (Conv2D)       (None, 56, 56, 256)       295168    \n",
      "                                                                 \n",
      " block3_conv2 (Conv2D)       (None, 56, 56, 256)       590080    \n",
      "                                                                 \n",
      " block3_conv3 (Conv2D)       (None, 56, 56, 256)       590080    \n",
      "                                                                 \n",
      " block3_pool (MaxPooling2D)  (None, 28, 28, 256)       0         \n",
      "                                                                 \n",
      " block4_conv1 (Conv2D)       (None, 28, 28, 512)       1180160   \n",
      "                                                                 \n",
      " block4_conv2 (Conv2D)       (None, 28, 28, 512)       2359808   \n",
      "                                                                 \n",
      " block4_conv3 (Conv2D)       (None, 28, 28, 512)       2359808   \n",
      "                                                                 \n",
      " block4_pool (MaxPooling2D)  (None, 14, 14, 512)       0         \n",
      "                                                                 \n",
      " block5_conv1 (Conv2D)       (None, 14, 14, 512)       2359808   \n",
      "                                                                 \n",
      " block5_conv2 (Conv2D)       (None, 14, 14, 512)       2359808   \n",
      "                                                                 \n",
      " block5_conv3 (Conv2D)       (None, 14, 14, 512)       2359808   \n",
      "                                                                 \n",
      " block5_pool (MaxPooling2D)  (None, 7, 7, 512)         0         \n",
      "                                                                 \n",
      " flatten_2 (Flatten)         (None, 25088)             0         \n",
      "                                                                 \n",
      " dense_2 (Dense)             (None, 20)                501780    \n",
      "                                                                 \n",
      "=================================================================\n",
      "Total params: 15,216,468\n",
      "Trainable params: 501,780\n",
      "Non-trainable params: 14,714,688\n",
      "_________________________________________________________________\n"
     ]
    }
   ],
   "source": [
    "model.summary()"
   ]
  },
  {
   "cell_type": "code",
   "execution_count": 138,
   "id": "a2eceadf",
   "metadata": {},
   "outputs": [
    {
     "data": {
      "text/plain": [
       "['./train\\\\ABBOTTS BABBLER',\n",
       " './train\\\\ABBOTTS BOOBY',\n",
       " './train\\\\ABYSSINIAN GROUND HORNBILL',\n",
       " './train\\\\AFRICAN CROWNED CRANE',\n",
       " './train\\\\AFRICAN EMERALD CUCKOO',\n",
       " './train\\\\AFRICAN FIREFINCH',\n",
       " './train\\\\AFRICAN OYSTER CATCHER',\n",
       " './train\\\\ALBATROSS',\n",
       " './train\\\\ALBERTS TOWHEE',\n",
       " './train\\\\ALEXANDRINE PARAKEET',\n",
       " './train\\\\ALPINE CHOUGH',\n",
       " './train\\\\ALTAMIRA YELLOWTHROAT',\n",
       " './train\\\\AMERICAN AVOCET',\n",
       " './train\\\\AMERICAN BITTERN',\n",
       " './train\\\\AMERICAN COOT',\n",
       " './train\\\\AMERICAN GOLDFINCH',\n",
       " './train\\\\AMERICAN KESTREL',\n",
       " './train\\\\AMERICAN PIPIT',\n",
       " './train\\\\AMERICAN REDSTART',\n",
       " './train\\\\AMETHYST WOODSTAR']"
      ]
     },
     "execution_count": 138,
     "metadata": {},
     "output_type": "execute_result"
    }
   ],
   "source": [
    "folders"
   ]
  },
  {
   "cell_type": "code",
   "execution_count": 139,
   "id": "f4d367a1",
   "metadata": {},
   "outputs": [
    {
     "data": {
      "text/plain": [
       "20"
      ]
     },
     "execution_count": 139,
     "metadata": {},
     "output_type": "execute_result"
    }
   ],
   "source": [
    "len(folders)"
   ]
  },
  {
   "cell_type": "code",
   "execution_count": 140,
   "id": "d2ae6aa9",
   "metadata": {},
   "outputs": [],
   "source": [
    "model.compile(optimizer='adam',loss='categorical_crossentropy',metrics=['accuracy'])"
   ]
  },
  {
   "cell_type": "code",
   "execution_count": 141,
   "id": "7d0dd00f",
   "metadata": {},
   "outputs": [
    {
     "name": "stdout",
     "output_type": "stream",
     "text": [
      "Found 3044 images belonging to 20 classes.\n",
      "Found 100 images belonging to 20 classes.\n"
     ]
    }
   ],
   "source": [
    "from keras.preprocessing.image import ImageDataGenerator\n",
    "\n",
    "train_datagen=ImageDataGenerator(rescale = 1./255,\n",
    "                                   shear_range = 0.2,\n",
    "                                   zoom_range = 0.2,\n",
    "                                   horizontal_flip = True)\n",
    "\n",
    "test_datagen = ImageDataGenerator(rescale = 1./255)\n",
    "\n",
    "\n",
    "training_set=train_datagen.flow_from_directory(directory=train_path,\n",
    "                                               target_size=(224,224),\n",
    "                                               batch_size=32,\n",
    "                                               class_mode='categorical'\n",
    "                                              )\n",
    "\n",
    "test_set=test_datagen.flow_from_directory(directory=test_path,\n",
    "                                         target_size = (224, 224),\n",
    "                                         batch_size = 32,\n",
    "                                         class_mode = 'categorical')"
   ]
  },
  {
   "cell_type": "code",
   "execution_count": 142,
   "id": "151c38db",
   "metadata": {
    "scrolled": true
   },
   "outputs": [
    {
     "name": "stderr",
     "output_type": "stream",
     "text": [
      "C:\\Users\\samcs\\AppData\\Local\\Temp\\ipykernel_16680\\177326590.py:1: UserWarning: `Model.fit_generator` is deprecated and will be removed in a future version. Please use `Model.fit`, which supports generators.\n",
      "  r = model.fit_generator(\n"
     ]
    },
    {
     "name": "stdout",
     "output_type": "stream",
     "text": [
      "Epoch 1/10\n",
      "96/96 [==============================] - 33s 342ms/step - loss: 1.6346 - accuracy: 0.5673 - val_loss: 0.4471 - val_accuracy: 0.8700\n",
      "Epoch 2/10\n",
      "96/96 [==============================] - 32s 330ms/step - loss: 0.5492 - accuracy: 0.8318 - val_loss: 0.4187 - val_accuracy: 0.8600\n",
      "Epoch 3/10\n",
      "96/96 [==============================] - 32s 332ms/step - loss: 0.2893 - accuracy: 0.9139 - val_loss: 0.2148 - val_accuracy: 0.9500\n",
      "Epoch 4/10\n",
      "96/96 [==============================] - 32s 334ms/step - loss: 0.2022 - accuracy: 0.9435 - val_loss: 0.2218 - val_accuracy: 0.9400\n",
      "Epoch 5/10\n",
      "96/96 [==============================] - 35s 362ms/step - loss: 0.1423 - accuracy: 0.9635 - val_loss: 0.2378 - val_accuracy: 0.9300\n",
      "Epoch 6/10\n",
      "96/96 [==============================] - 33s 342ms/step - loss: 0.1098 - accuracy: 0.9698 - val_loss: 0.2850 - val_accuracy: 0.9300\n",
      "Epoch 7/10\n",
      "96/96 [==============================] - 34s 348ms/step - loss: 0.0878 - accuracy: 0.9783 - val_loss: 0.1974 - val_accuracy: 0.9500\n",
      "Epoch 8/10\n",
      "96/96 [==============================] - 33s 343ms/step - loss: 0.0792 - accuracy: 0.9809 - val_loss: 0.2089 - val_accuracy: 0.9500\n",
      "Epoch 9/10\n",
      "96/96 [==============================] - 33s 347ms/step - loss: 0.0772 - accuracy: 0.9813 - val_loss: 0.1876 - val_accuracy: 0.9400\n",
      "Epoch 10/10\n",
      "96/96 [==============================] - 33s 344ms/step - loss: 0.0552 - accuracy: 0.9888 - val_loss: 0.1547 - val_accuracy: 0.9400\n"
     ]
    }
   ],
   "source": [
    "r = model.fit_generator(\n",
    "  training_set,\n",
    "  validation_data=test_set,\n",
    "  epochs=10,\n",
    "  steps_per_epoch=len(training_set),\n",
    "  validation_steps=len(test_set)\n",
    ")"
   ]
  },
  {
   "cell_type": "code",
   "execution_count": 143,
   "id": "f539b727",
   "metadata": {
    "scrolled": true
   },
   "outputs": [
    {
     "data": {
      "image/png": "[encoded data removed]",
      "text/plain": [
       "<Figure size 432x288 with 1 Axes>"
      ]
     },
     "metadata": {
      "needs_background": "light"
     },
     "output_type": "display_data"
    },
    {
     "data": {
      "image/png": "[encoded data removed]",
      "text/plain": [
       "<Figure size 432x288 with 1 Axes>"
      ]
     },
     "metadata": {
      "needs_background": "light"
     },
     "output_type": "display_data"
    },
    {
     "data": {
      "text/plain": [
       "<Figure size 432x288 with 0 Axes>"
      ]
     },
     "metadata": {},
     "output_type": "display_data"
    }
   ],
   "source": [
    "# loss\n",
    "plt.plot(r.history['loss'], label='train loss')\n",
    "plt.plot(r.history['val_loss'], label='val loss')\n",
    "plt.legend()\n",
    "plt.show()\n",
    "plt.savefig('LossVal_loss')\n",
    "\n",
    "# accuracies\n",
    "plt.plot(r.history['accuracy'], label='train acc')\n",
    "plt.plot(r.history['val_accuracy'], label='val acc')\n",
    "plt.legend()\n",
    "plt.show()\n",
    "plt.savefig('AccVal_acc')\n"
   ]
  },
  {
   "cell_type": "code",
   "execution_count": 144,
   "id": "34404a3b",
   "metadata": {},
   "outputs": [],
   "source": [
    "model.save(\"birds_classifier.h5\")"
   ]
  },
  {
   "cell_type": "code",
   "execution_count": 145,
   "id": "99355602",
   "metadata": {},
   "outputs": [],
   "source": [
    "import tensorflow as tf\n",
    "\n",
    "from keras.models import load_model\n",
    "\n",
    "from keras.preprocessing import image\n"
   ]
  },
  {
   "cell_type": "code",
   "execution_count": 146,
   "id": "27827320",
   "metadata": {},
   "outputs": [],
   "source": [
    "from tensorflow.keras.preprocessing.image import load_img,img_to_array"
   ]
  },
  {
   "cell_type": "code",
   "execution_count": 147,
   "id": "2d8bbfd8",
   "metadata": {},
   "outputs": [],
   "source": [
    "model=load_model('birds_classifier.h5')  "
   ]
  },
  {
   "cell_type": "code",
   "execution_count": 148,
   "id": "2e2b078c",
   "metadata": {},
   "outputs": [],
   "source": [
    "def model_predict(img_path, model):\n",
    "    img = image.load_img(img_path, target_size=(224, 224))\n",
    "\n",
    "    # Preprocessing the image\n",
    "    x = image.img_to_array(img)\n",
    "    # x = np.true_divide(x, 255)\n",
    "    x = np.expand_dims(x, axis=0)\n",
    "\n",
    "    # Be careful how your trained model deals with the input\n",
    "    # otherwise, it won't make correct prediction!\n",
    "    x = preprocess_input(x)\n",
    "\n",
    "    preds = model.predict(x)\n",
    "    return preds\n"
   ]
  },
  {
   "cell_type": "code",
   "execution_count": 149,
   "id": "d408d158",
   "metadata": {},
   "outputs": [],
   "source": [
    "import numpy as np"
   ]
  },
  {
   "cell_type": "code",
   "execution_count": 155,
   "id": "e587fd9e",
   "metadata": {},
   "outputs": [],
   "source": [
    "predict=model_predict(\"./test/AMERICAN BITTERN/1.jpg\",model)"
   ]
  },
  {
   "cell_type": "code",
   "execution_count": 160,
   "id": "fa2ea2ef",
   "metadata": {},
   "outputs": [
    {
     "data": {
      "text/plain": [
       "array([[0., 0., 0., 0., 0., 0., 0., 0., 0., 0., 0., 0., 0., 1., 0., 0.,\n",
       "        0., 0., 0., 0.]], dtype=float32)"
      ]
     },
     "execution_count": 160,
     "metadata": {},
     "output_type": "execute_result"
    }
   ],
   "source": [
    "predict"
   ]
  },
  {
   "cell_type": "code",
   "execution_count": 161,
   "id": "c3818f6f",
   "metadata": {},
   "outputs": [],
   "source": [
    "result=np.argmax(predict, axis=1)"
   ]
  },
  {
   "cell_type": "code",
   "execution_count": 162,
   "id": "e93c885e",
   "metadata": {},
   "outputs": [],
   "source": [
    "if result==0:\n",
    "    result=\"ABBOTTS BABBLER\"\n",
    "elif result==1:\n",
    "    result=\"ABBOTTS BOOBY\"\n",
    "elif result==2:\n",
    "    result=\"ABYSSINIAN GROUND HORNBILL\"\n",
    "elif result==3:\n",
    "    result=\"AFRICAN CROWNED CRANE\"\n",
    "elif result==4:\n",
    "    result=\"AFRICAN EMERALD CUCKOO\"\n",
    "elif result==5:\n",
    "    result=\"AFRICAN FIREFINCH\"\n",
    "elif result==6:\n",
    "    result=\"AFRICAN OYSTER CATCHER\"\n",
    "elif result==7:\n",
    "    result=\"ALBATROSS\"\n",
    "elif result==8:\n",
    "    result=\"ALBERTS TOWHEE\"\n",
    "elif result==9:\n",
    "    result=\"ALEXANDRINE PARAKEET\"\n",
    "elif result==10:\n",
    "    result=\"ALPINE CHOUGH\"\n",
    "elif result==11:\n",
    "    result=\"ALTAMIRA YELLOWTHROAT\"\n",
    "elif result==12:\n",
    "    result=\"AMERICAN AVOCET\"\n",
    "elif result==13:\n",
    "    result=\"AMERICAN BITTERN\"\n",
    "elif result==14:\n",
    "    result=\"AMERICAN COOT\"\n",
    "elif result==16:\n",
    "    result=\"AMERICAN GOLDFINCH\"\n",
    "elif result==17:\n",
    "    result=\"AMERICAN KESTREL\"\n",
    "elif result==18:\n",
    "    result=\"AMERICAN PIPIT\"\n",
    "elif result==19:\n",
    "    result=\"AMERICAN REDSTART\"\n",
    "else:\n",
    "    result=\"AMETHYST WOODSTAR\""
   ]
  },
  {
   "cell_type": "code",
   "execution_count": 163,
   "id": "a04b70ed",
   "metadata": {},
   "outputs": [
    {
     "data": {
      "text/plain": [
       "'AMERICAN BITTERN'"
      ]
     },
     "execution_count": 163,
     "metadata": {},
     "output_type": "execute_result"
    }
   ],
   "source": [
    "result"
   ]
  },
  {
   "cell_type": "code",
   "execution_count": null,
   "id": "1ed5cb7b",
   "metadata": {},
   "outputs": [],
   "source": []
  },
  {
   "cell_type": "code",
   "execution_count": null,
   "id": "df29da0a",
   "metadata": {},
   "outputs": [],
   "source": []
  }
 ],
 "metadata": {
  "kernelspec": {
   "display_name": "Python 3 (ipykernel)",
   "language": "python",
   "name": "python3"
  },
  "language_info": {
   "codemirror_mode": {
    "name": "ipython",
    "version": 3
   },
   "file_extension": ".py",
   "mimetype": "text/x-python",
   "name": "python",
   "nbconvert_exporter": "python",
   "pygments_lexer": "ipython3",
   "version": "3.9.7"
  }
 },
 "nbformat": 4,
 "nbformat_minor": 5
}
